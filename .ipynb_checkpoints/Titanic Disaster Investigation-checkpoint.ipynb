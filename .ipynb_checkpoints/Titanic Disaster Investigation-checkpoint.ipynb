{
 "cells": [
  {
   "cell_type": "markdown",
   "metadata": {},
   "source": [
    "# Titanic Disaster Investigation Report"
   ]
  },
  {
   "cell_type": "markdown",
   "metadata": {},
   "source": [
    "### 1. AIM : *To investigate the Titanic Disaster dataset and find survival patterns through the usage of statistical and visual methods.*"
   ]
  },
  {
   "cell_type": "markdown",
   "metadata": {},
   "source": [
    "### 1.1 Dataset Available: *titanic-data.csv* (Source: [Kaggle Titanic Training Dataset](https://www.kaggle.com/c/titanic/data) )"
   ]
  },
  {
   "cell_type": "markdown",
   "metadata": {},
   "source": [
    "The objective is to investigate the above mentioned dataset and find out the likelihood of survival of the passengers abode the Titanic, with respect to various factors. I, through this report, aim to communicate my findings and draw conclusions if possible, with respect to this disaster."
   ]
  },
  {
   "cell_type": "markdown",
   "metadata": {},
   "source": [
    "### 1.1.1 Asking Questions"
   ]
  },
  {
   "cell_type": "markdown",
   "metadata": {},
   "source": [
    "* How many survivors were there and how was their survival affected by gender and age?\n",
    "* What was the distribution of passenngers across Pclass, and which class had the most number of survivors?\n",
    "* Was fare correlated to Pclass, and how did it affect survival rates?\n",
    "* How were travellers aboard the Titanic distributed from the Embarking Stations? Does the embarking point have any correlation to survivors?\n",
    "* Does the embarking point have any correlation with economic status of the survivors?"
   ]
  },
  {
   "cell_type": "markdown",
   "metadata": {},
   "source": [
    "### 1.2 Exploring the dataset"
   ]
  },
  {
   "cell_type": "code",
   "execution_count": 2,
   "metadata": {
    "collapsed": true
   },
   "outputs": [],
   "source": [
    "import numpy as np\n",
    "import pandas as pd\n",
    "import matplotlib.pyplot as plt\n",
    "import seaborn as sns\n",
    "%matplotlib inline\n",
    "sns.set_style('whitegrid')"
   ]
  },
  {
   "cell_type": "code",
   "execution_count": 3,
   "metadata": {
    "collapsed": true
   },
   "outputs": [],
   "source": [
    "titanic_df = pd.read_csv(\"titanic-data.csv\")"
   ]
  },
  {
   "cell_type": "code",
   "execution_count": 4,
   "metadata": {},
   "outputs": [
    {
     "data": {
      "text/html": [
       "<div>\n",
       "<style>\n",
       "    .dataframe thead tr:only-child th {\n",
       "        text-align: right;\n",
       "    }\n",
       "\n",
       "    .dataframe thead th {\n",
       "        text-align: left;\n",
       "    }\n",
       "\n",
       "    .dataframe tbody tr th {\n",
       "        vertical-align: top;\n",
       "    }\n",
       "</style>\n",
       "<table border=\"1\" class=\"dataframe\">\n",
       "  <thead>\n",
       "    <tr style=\"text-align: right;\">\n",
       "      <th></th>\n",
       "      <th>PassengerId</th>\n",
       "      <th>Survived</th>\n",
       "      <th>Pclass</th>\n",
       "      <th>Name</th>\n",
       "      <th>Sex</th>\n",
       "      <th>Age</th>\n",
       "      <th>SibSp</th>\n",
       "      <th>Parch</th>\n",
       "      <th>Ticket</th>\n",
       "      <th>Fare</th>\n",
       "      <th>Cabin</th>\n",
       "      <th>Embarked</th>\n",
       "    </tr>\n",
       "  </thead>\n",
       "  <tbody>\n",
       "    <tr>\n",
       "      <th>0</th>\n",
       "      <td>1</td>\n",
       "      <td>0</td>\n",
       "      <td>3</td>\n",
       "      <td>Braund, Mr. Owen Harris</td>\n",
       "      <td>male</td>\n",
       "      <td>22.0</td>\n",
       "      <td>1</td>\n",
       "      <td>0</td>\n",
       "      <td>A/5 21171</td>\n",
       "      <td>7.2500</td>\n",
       "      <td>NaN</td>\n",
       "      <td>S</td>\n",
       "    </tr>\n",
       "    <tr>\n",
       "      <th>1</th>\n",
       "      <td>2</td>\n",
       "      <td>1</td>\n",
       "      <td>1</td>\n",
       "      <td>Cumings, Mrs. John Bradley (Florence Briggs Th...</td>\n",
       "      <td>female</td>\n",
       "      <td>38.0</td>\n",
       "      <td>1</td>\n",
       "      <td>0</td>\n",
       "      <td>PC 17599</td>\n",
       "      <td>71.2833</td>\n",
       "      <td>C85</td>\n",
       "      <td>C</td>\n",
       "    </tr>\n",
       "    <tr>\n",
       "      <th>2</th>\n",
       "      <td>3</td>\n",
       "      <td>1</td>\n",
       "      <td>3</td>\n",
       "      <td>Heikkinen, Miss. Laina</td>\n",
       "      <td>female</td>\n",
       "      <td>26.0</td>\n",
       "      <td>0</td>\n",
       "      <td>0</td>\n",
       "      <td>STON/O2. 3101282</td>\n",
       "      <td>7.9250</td>\n",
       "      <td>NaN</td>\n",
       "      <td>S</td>\n",
       "    </tr>\n",
       "    <tr>\n",
       "      <th>3</th>\n",
       "      <td>4</td>\n",
       "      <td>1</td>\n",
       "      <td>1</td>\n",
       "      <td>Futrelle, Mrs. Jacques Heath (Lily May Peel)</td>\n",
       "      <td>female</td>\n",
       "      <td>35.0</td>\n",
       "      <td>1</td>\n",
       "      <td>0</td>\n",
       "      <td>113803</td>\n",
       "      <td>53.1000</td>\n",
       "      <td>C123</td>\n",
       "      <td>S</td>\n",
       "    </tr>\n",
       "    <tr>\n",
       "      <th>4</th>\n",
       "      <td>5</td>\n",
       "      <td>0</td>\n",
       "      <td>3</td>\n",
       "      <td>Allen, Mr. William Henry</td>\n",
       "      <td>male</td>\n",
       "      <td>35.0</td>\n",
       "      <td>0</td>\n",
       "      <td>0</td>\n",
       "      <td>373450</td>\n",
       "      <td>8.0500</td>\n",
       "      <td>NaN</td>\n",
       "      <td>S</td>\n",
       "    </tr>\n",
       "  </tbody>\n",
       "</table>\n",
       "</div>"
      ],
      "text/plain": [
       "   PassengerId  Survived  Pclass  \\\n",
       "0            1         0       3   \n",
       "1            2         1       1   \n",
       "2            3         1       3   \n",
       "3            4         1       1   \n",
       "4            5         0       3   \n",
       "\n",
       "                                                Name     Sex   Age  SibSp  \\\n",
       "0                            Braund, Mr. Owen Harris    male  22.0      1   \n",
       "1  Cumings, Mrs. John Bradley (Florence Briggs Th...  female  38.0      1   \n",
       "2                             Heikkinen, Miss. Laina  female  26.0      0   \n",
       "3       Futrelle, Mrs. Jacques Heath (Lily May Peel)  female  35.0      1   \n",
       "4                           Allen, Mr. William Henry    male  35.0      0   \n",
       "\n",
       "   Parch            Ticket     Fare Cabin Embarked  \n",
       "0      0         A/5 21171   7.2500   NaN        S  \n",
       "1      0          PC 17599  71.2833   C85        C  \n",
       "2      0  STON/O2. 3101282   7.9250   NaN        S  \n",
       "3      0            113803  53.1000  C123        S  \n",
       "4      0            373450   8.0500   NaN        S  "
      ]
     },
     "execution_count": 4,
     "metadata": {},
     "output_type": "execute_result"
    }
   ],
   "source": [
    "##Looking at first few rows\n",
    "titanic_df.head()"
   ]
  },
  {
   "cell_type": "code",
   "execution_count": 5,
   "metadata": {},
   "outputs": [
    {
     "name": "stdout",
     "output_type": "stream",
     "text": [
      "<class 'pandas.core.frame.DataFrame'>\n",
      "RangeIndex: 891 entries, 0 to 890\n",
      "Data columns (total 12 columns):\n",
      "PassengerId    891 non-null int64\n",
      "Survived       891 non-null int64\n",
      "Pclass         891 non-null int64\n",
      "Name           891 non-null object\n",
      "Sex            891 non-null object\n",
      "Age            714 non-null float64\n",
      "SibSp          891 non-null int64\n",
      "Parch          891 non-null int64\n",
      "Ticket         891 non-null object\n",
      "Fare           891 non-null float64\n",
      "Cabin          204 non-null object\n",
      "Embarked       889 non-null object\n",
      "dtypes: float64(2), int64(5), object(5)\n",
      "memory usage: 83.6+ KB\n"
     ]
    }
   ],
   "source": [
    "##Dataset related information, column wise\n",
    "titanic_df.info()"
   ]
  },
  {
   "cell_type": "markdown",
   "metadata": {},
   "source": [
    "### 1.2.1 Data Dictionary (as available on the Kaggle Website):\n",
    "\n",
    "* *survival* :\tSurvival\t0 = No, 1 = Yes\n",
    "* *pclass* : \tTicket class\t1 = 1st, 2 = 2nd, 3 = 3rd\n",
    "* *sex* :    \tGender\t\n",
    "* *Age* :    \tAge in years\t\n",
    "* *sibsp* :  \t# of siblings / spouses aboard the Titanic\t\n",
    "* *parch* :  \t# of parents / children aboard the Titanic\t\n",
    "* *ticket* :  \tTicket number\t\n",
    "* *fare* :   \tPassenger fare\t\n",
    "* *cabin* :  \tCabin number\t\n",
    "* *embarked* :   Port of Embarkation\t\n",
    "   *C = Cherbourg, \n",
    "    Q = Queenstown, \n",
    "    S = Southampton*"
   ]
  },
  {
   "cell_type": "markdown",
   "metadata": {},
   "source": [
    "As it can be seen, a lot of data is available for each of the **891 passengers**, whose data we have the in the dataset. Some factors which can be investigated to find higher survival rates are:\n",
    "\n",
    "* Age\n",
    "* Pclass\n",
    "* Sex\n",
    "* Cabin\n",
    "* Ticket\n",
    "\n",
    "..and so on. These factors will be analysed and evaluated through various statistical and visual methods further in this report to discern whether they actually affected the survival of the passengers on the Titanic. "
   ]
  },
  {
   "cell_type": "code",
   "execution_count": 6,
   "metadata": {},
   "outputs": [
    {
     "name": "stdout",
     "output_type": "stream",
     "text": [
      "<class 'pandas.core.frame.DataFrame'>\n",
      "RangeIndex: 891 entries, 0 to 890\n",
      "Data columns (total 12 columns):\n",
      "PassengerId    891 non-null int64\n",
      "Survived       891 non-null int64\n",
      "Pclass         891 non-null int64\n",
      "Name           891 non-null object\n",
      "Sex            891 non-null object\n",
      "Age            714 non-null float64\n",
      "SibSp          891 non-null int64\n",
      "Parch          891 non-null int64\n",
      "Ticket         891 non-null object\n",
      "Fare           891 non-null float64\n",
      "Cabin          204 non-null object\n",
      "Embarked       889 non-null object\n",
      "dtypes: float64(2), int64(5), object(5)\n",
      "memory usage: 83.6+ KB\n"
     ]
    }
   ],
   "source": [
    "##Data related information, column wise\n",
    "titanic_df.info()"
   ]
  },
  {
   "cell_type": "code",
   "execution_count": 7,
   "metadata": {},
   "outputs": [
    {
     "data": {
      "text/html": [
       "<div>\n",
       "<style>\n",
       "    .dataframe thead tr:only-child th {\n",
       "        text-align: right;\n",
       "    }\n",
       "\n",
       "    .dataframe thead th {\n",
       "        text-align: left;\n",
       "    }\n",
       "\n",
       "    .dataframe tbody tr th {\n",
       "        vertical-align: top;\n",
       "    }\n",
       "</style>\n",
       "<table border=\"1\" class=\"dataframe\">\n",
       "  <thead>\n",
       "    <tr style=\"text-align: right;\">\n",
       "      <th></th>\n",
       "      <th>PassengerId</th>\n",
       "      <th>Survived</th>\n",
       "      <th>Pclass</th>\n",
       "      <th>Name</th>\n",
       "      <th>Sex</th>\n",
       "      <th>Age</th>\n",
       "      <th>SibSp</th>\n",
       "      <th>Parch</th>\n",
       "      <th>Ticket</th>\n",
       "      <th>Fare</th>\n",
       "      <th>Cabin</th>\n",
       "      <th>Embarked</th>\n",
       "    </tr>\n",
       "  </thead>\n",
       "  <tbody>\n",
       "    <tr>\n",
       "      <th>count</th>\n",
       "      <td>891.000000</td>\n",
       "      <td>891.000000</td>\n",
       "      <td>891.000000</td>\n",
       "      <td>891</td>\n",
       "      <td>891</td>\n",
       "      <td>714.000000</td>\n",
       "      <td>891.000000</td>\n",
       "      <td>891.000000</td>\n",
       "      <td>891</td>\n",
       "      <td>891.000000</td>\n",
       "      <td>204</td>\n",
       "      <td>889</td>\n",
       "    </tr>\n",
       "    <tr>\n",
       "      <th>unique</th>\n",
       "      <td>NaN</td>\n",
       "      <td>NaN</td>\n",
       "      <td>NaN</td>\n",
       "      <td>891</td>\n",
       "      <td>2</td>\n",
       "      <td>NaN</td>\n",
       "      <td>NaN</td>\n",
       "      <td>NaN</td>\n",
       "      <td>681</td>\n",
       "      <td>NaN</td>\n",
       "      <td>147</td>\n",
       "      <td>3</td>\n",
       "    </tr>\n",
       "    <tr>\n",
       "      <th>top</th>\n",
       "      <td>NaN</td>\n",
       "      <td>NaN</td>\n",
       "      <td>NaN</td>\n",
       "      <td>Mack, Mrs. (Mary)</td>\n",
       "      <td>male</td>\n",
       "      <td>NaN</td>\n",
       "      <td>NaN</td>\n",
       "      <td>NaN</td>\n",
       "      <td>1601</td>\n",
       "      <td>NaN</td>\n",
       "      <td>G6</td>\n",
       "      <td>S</td>\n",
       "    </tr>\n",
       "    <tr>\n",
       "      <th>freq</th>\n",
       "      <td>NaN</td>\n",
       "      <td>NaN</td>\n",
       "      <td>NaN</td>\n",
       "      <td>1</td>\n",
       "      <td>577</td>\n",
       "      <td>NaN</td>\n",
       "      <td>NaN</td>\n",
       "      <td>NaN</td>\n",
       "      <td>7</td>\n",
       "      <td>NaN</td>\n",
       "      <td>4</td>\n",
       "      <td>644</td>\n",
       "    </tr>\n",
       "    <tr>\n",
       "      <th>mean</th>\n",
       "      <td>446.000000</td>\n",
       "      <td>0.383838</td>\n",
       "      <td>2.308642</td>\n",
       "      <td>NaN</td>\n",
       "      <td>NaN</td>\n",
       "      <td>29.699118</td>\n",
       "      <td>0.523008</td>\n",
       "      <td>0.381594</td>\n",
       "      <td>NaN</td>\n",
       "      <td>32.204208</td>\n",
       "      <td>NaN</td>\n",
       "      <td>NaN</td>\n",
       "    </tr>\n",
       "    <tr>\n",
       "      <th>std</th>\n",
       "      <td>257.353842</td>\n",
       "      <td>0.486592</td>\n",
       "      <td>0.836071</td>\n",
       "      <td>NaN</td>\n",
       "      <td>NaN</td>\n",
       "      <td>14.526497</td>\n",
       "      <td>1.102743</td>\n",
       "      <td>0.806057</td>\n",
       "      <td>NaN</td>\n",
       "      <td>49.693429</td>\n",
       "      <td>NaN</td>\n",
       "      <td>NaN</td>\n",
       "    </tr>\n",
       "    <tr>\n",
       "      <th>min</th>\n",
       "      <td>1.000000</td>\n",
       "      <td>0.000000</td>\n",
       "      <td>1.000000</td>\n",
       "      <td>NaN</td>\n",
       "      <td>NaN</td>\n",
       "      <td>0.420000</td>\n",
       "      <td>0.000000</td>\n",
       "      <td>0.000000</td>\n",
       "      <td>NaN</td>\n",
       "      <td>0.000000</td>\n",
       "      <td>NaN</td>\n",
       "      <td>NaN</td>\n",
       "    </tr>\n",
       "    <tr>\n",
       "      <th>25%</th>\n",
       "      <td>223.500000</td>\n",
       "      <td>0.000000</td>\n",
       "      <td>2.000000</td>\n",
       "      <td>NaN</td>\n",
       "      <td>NaN</td>\n",
       "      <td>20.125000</td>\n",
       "      <td>0.000000</td>\n",
       "      <td>0.000000</td>\n",
       "      <td>NaN</td>\n",
       "      <td>7.910400</td>\n",
       "      <td>NaN</td>\n",
       "      <td>NaN</td>\n",
       "    </tr>\n",
       "    <tr>\n",
       "      <th>50%</th>\n",
       "      <td>446.000000</td>\n",
       "      <td>0.000000</td>\n",
       "      <td>3.000000</td>\n",
       "      <td>NaN</td>\n",
       "      <td>NaN</td>\n",
       "      <td>28.000000</td>\n",
       "      <td>0.000000</td>\n",
       "      <td>0.000000</td>\n",
       "      <td>NaN</td>\n",
       "      <td>14.454200</td>\n",
       "      <td>NaN</td>\n",
       "      <td>NaN</td>\n",
       "    </tr>\n",
       "    <tr>\n",
       "      <th>75%</th>\n",
       "      <td>668.500000</td>\n",
       "      <td>1.000000</td>\n",
       "      <td>3.000000</td>\n",
       "      <td>NaN</td>\n",
       "      <td>NaN</td>\n",
       "      <td>38.000000</td>\n",
       "      <td>1.000000</td>\n",
       "      <td>0.000000</td>\n",
       "      <td>NaN</td>\n",
       "      <td>31.000000</td>\n",
       "      <td>NaN</td>\n",
       "      <td>NaN</td>\n",
       "    </tr>\n",
       "    <tr>\n",
       "      <th>max</th>\n",
       "      <td>891.000000</td>\n",
       "      <td>1.000000</td>\n",
       "      <td>3.000000</td>\n",
       "      <td>NaN</td>\n",
       "      <td>NaN</td>\n",
       "      <td>80.000000</td>\n",
       "      <td>8.000000</td>\n",
       "      <td>6.000000</td>\n",
       "      <td>NaN</td>\n",
       "      <td>512.329200</td>\n",
       "      <td>NaN</td>\n",
       "      <td>NaN</td>\n",
       "    </tr>\n",
       "  </tbody>\n",
       "</table>\n",
       "</div>"
      ],
      "text/plain": [
       "        PassengerId    Survived      Pclass               Name   Sex  \\\n",
       "count    891.000000  891.000000  891.000000                891   891   \n",
       "unique          NaN         NaN         NaN                891     2   \n",
       "top             NaN         NaN         NaN  Mack, Mrs. (Mary)  male   \n",
       "freq            NaN         NaN         NaN                  1   577   \n",
       "mean     446.000000    0.383838    2.308642                NaN   NaN   \n",
       "std      257.353842    0.486592    0.836071                NaN   NaN   \n",
       "min        1.000000    0.000000    1.000000                NaN   NaN   \n",
       "25%      223.500000    0.000000    2.000000                NaN   NaN   \n",
       "50%      446.000000    0.000000    3.000000                NaN   NaN   \n",
       "75%      668.500000    1.000000    3.000000                NaN   NaN   \n",
       "max      891.000000    1.000000    3.000000                NaN   NaN   \n",
       "\n",
       "               Age       SibSp       Parch Ticket        Fare Cabin Embarked  \n",
       "count   714.000000  891.000000  891.000000    891  891.000000   204      889  \n",
       "unique         NaN         NaN         NaN    681         NaN   147        3  \n",
       "top            NaN         NaN         NaN   1601         NaN    G6        S  \n",
       "freq           NaN         NaN         NaN      7         NaN     4      644  \n",
       "mean     29.699118    0.523008    0.381594    NaN   32.204208   NaN      NaN  \n",
       "std      14.526497    1.102743    0.806057    NaN   49.693429   NaN      NaN  \n",
       "min       0.420000    0.000000    0.000000    NaN    0.000000   NaN      NaN  \n",
       "25%      20.125000    0.000000    0.000000    NaN    7.910400   NaN      NaN  \n",
       "50%      28.000000    0.000000    0.000000    NaN   14.454200   NaN      NaN  \n",
       "75%      38.000000    1.000000    0.000000    NaN   31.000000   NaN      NaN  \n",
       "max      80.000000    8.000000    6.000000    NaN  512.329200   NaN      NaN  "
      ]
     },
     "execution_count": 7,
     "metadata": {},
     "output_type": "execute_result"
    }
   ],
   "source": [
    "##Statistical parameters of the complete dataset\n",
    "titanic_df.describe(include=\"all\")"
   ]
  },
  {
   "cell_type": "code",
   "execution_count": 8,
   "metadata": {},
   "outputs": [
    {
     "data": {
      "text/plain": [
       "PassengerId      0\n",
       "Survived         0\n",
       "Pclass           0\n",
       "Name             0\n",
       "Sex              0\n",
       "Age            177\n",
       "SibSp            0\n",
       "Parch            0\n",
       "Ticket           0\n",
       "Fare             0\n",
       "Cabin          687\n",
       "Embarked         2\n",
       "dtype: int64"
      ]
     },
     "execution_count": 8,
     "metadata": {},
     "output_type": "execute_result"
    }
   ],
   "source": [
    "##Checking for null/NaN values across the dataset\n",
    "pd.isnull(titanic_df).sum()"
   ]
  },
  {
   "cell_type": "markdown",
   "metadata": {},
   "source": [
    "### 1.2.2 Some points to be noted about the distribution of data:\n",
    "\n",
    "* The total number of passengers whose data is available is 891, out of which only 38.4% are survivors on average.\n",
    "* The population mostly comprises of males(577), with a percentage of 65%.\n",
    "* Out of the three embarking points, Southampton (S) is the place from where more than 70% of passengers embarked.\n",
    "* Cabins for a majority of passengers are not available(687 null values). Out of the 204 for which it is available, only 147 unique cabins have been alloted, as they were on sharing basis.\n",
    "* Similarly, age for 177 passengers is not available. For the data, mean age is around 29-30 years, but this may not be very reliable. The oldest passenger is 80 years old, while the youngest is an infant of around 5 months.\n",
    "* 681 unique tickets have been handed out, for 891 passengers, and yet there is no NULL value for the Ticket column. Hence there is possible duplicacy in tickets.\n",
    "* Maximum fare paid (512.32) is almost 9.66 standard deviations higher than the mean. It's probably an outlier, while the mean fare paid is 32.2. Surprisingly, minimum fare paid is 0, which could either imply a staff person or someone with a free ticket."
   ]
  },
  {
   "cell_type": "markdown",
   "metadata": {},
   "source": [
    "### 1.2 Data Cleaning and corrections\n",
    "\n",
    "* Passenger Id column serves no purpose to the analysis as it void of any useful information.\n",
    "* Cabin column is also an hindrance to correct analysis due to lack of complete information over the whole dataset.\n",
    "* Ticket information has many duplicate values, so this may lead to incorrect analysis. \n",
    "* Age column has 714 unique age values, which need to be analysed through discrete intervals having varying interval size. Interval size is kept varying for better age group based analysis."
   ]
  },
  {
   "cell_type": "code",
   "execution_count": 9,
   "metadata": {
    "collapsed": true
   },
   "outputs": [],
   "source": [
    "##Dropping unnecessary columns from dataset \n",
    "titanic_corrected_df = titanic_df.drop([\"PassengerId\", \"Cabin\", \"Ticket\"], axis=\"columns\")"
   ]
  },
  {
   "cell_type": "code",
   "execution_count": 10,
   "metadata": {},
   "outputs": [
    {
     "data": {
      "text/html": [
       "<div>\n",
       "<style>\n",
       "    .dataframe thead tr:only-child th {\n",
       "        text-align: right;\n",
       "    }\n",
       "\n",
       "    .dataframe thead th {\n",
       "        text-align: left;\n",
       "    }\n",
       "\n",
       "    .dataframe tbody tr th {\n",
       "        vertical-align: top;\n",
       "    }\n",
       "</style>\n",
       "<table border=\"1\" class=\"dataframe\">\n",
       "  <thead>\n",
       "    <tr style=\"text-align: right;\">\n",
       "      <th></th>\n",
       "      <th>Survived</th>\n",
       "      <th>Pclass</th>\n",
       "      <th>Name</th>\n",
       "      <th>Sex</th>\n",
       "      <th>Age</th>\n",
       "      <th>SibSp</th>\n",
       "      <th>Parch</th>\n",
       "      <th>Fare</th>\n",
       "      <th>Embarked</th>\n",
       "    </tr>\n",
       "  </thead>\n",
       "  <tbody>\n",
       "    <tr>\n",
       "      <th>0</th>\n",
       "      <td>0</td>\n",
       "      <td>3</td>\n",
       "      <td>Braund, Mr. Owen Harris</td>\n",
       "      <td>male</td>\n",
       "      <td>22.0</td>\n",
       "      <td>1</td>\n",
       "      <td>0</td>\n",
       "      <td>7.2500</td>\n",
       "      <td>S</td>\n",
       "    </tr>\n",
       "    <tr>\n",
       "      <th>1</th>\n",
       "      <td>1</td>\n",
       "      <td>1</td>\n",
       "      <td>Cumings, Mrs. John Bradley (Florence Briggs Th...</td>\n",
       "      <td>female</td>\n",
       "      <td>38.0</td>\n",
       "      <td>1</td>\n",
       "      <td>0</td>\n",
       "      <td>71.2833</td>\n",
       "      <td>C</td>\n",
       "    </tr>\n",
       "    <tr>\n",
       "      <th>2</th>\n",
       "      <td>1</td>\n",
       "      <td>3</td>\n",
       "      <td>Heikkinen, Miss. Laina</td>\n",
       "      <td>female</td>\n",
       "      <td>26.0</td>\n",
       "      <td>0</td>\n",
       "      <td>0</td>\n",
       "      <td>7.9250</td>\n",
       "      <td>S</td>\n",
       "    </tr>\n",
       "    <tr>\n",
       "      <th>3</th>\n",
       "      <td>1</td>\n",
       "      <td>1</td>\n",
       "      <td>Futrelle, Mrs. Jacques Heath (Lily May Peel)</td>\n",
       "      <td>female</td>\n",
       "      <td>35.0</td>\n",
       "      <td>1</td>\n",
       "      <td>0</td>\n",
       "      <td>53.1000</td>\n",
       "      <td>S</td>\n",
       "    </tr>\n",
       "    <tr>\n",
       "      <th>4</th>\n",
       "      <td>0</td>\n",
       "      <td>3</td>\n",
       "      <td>Allen, Mr. William Henry</td>\n",
       "      <td>male</td>\n",
       "      <td>35.0</td>\n",
       "      <td>0</td>\n",
       "      <td>0</td>\n",
       "      <td>8.0500</td>\n",
       "      <td>S</td>\n",
       "    </tr>\n",
       "  </tbody>\n",
       "</table>\n",
       "</div>"
      ],
      "text/plain": [
       "   Survived  Pclass                                               Name  \\\n",
       "0         0       3                            Braund, Mr. Owen Harris   \n",
       "1         1       1  Cumings, Mrs. John Bradley (Florence Briggs Th...   \n",
       "2         1       3                             Heikkinen, Miss. Laina   \n",
       "3         1       1       Futrelle, Mrs. Jacques Heath (Lily May Peel)   \n",
       "4         0       3                           Allen, Mr. William Henry   \n",
       "\n",
       "      Sex   Age  SibSp  Parch     Fare Embarked  \n",
       "0    male  22.0      1      0   7.2500        S  \n",
       "1  female  38.0      1      0  71.2833        C  \n",
       "2  female  26.0      0      0   7.9250        S  \n",
       "3  female  35.0      1      0  53.1000        S  \n",
       "4    male  35.0      0      0   8.0500        S  "
      ]
     },
     "execution_count": 10,
     "metadata": {},
     "output_type": "execute_result"
    }
   ],
   "source": [
    "titanic_corrected_df.head()"
   ]
  },
  {
   "cell_type": "code",
   "execution_count": 11,
   "metadata": {},
   "outputs": [
    {
     "data": {
      "text/plain": [
       "0    (15, 30]\n",
       "1    (30, 50]\n",
       "2    (15, 30]\n",
       "3    (30, 50]\n",
       "4    (30, 50]\n",
       "Name: Age Interval, dtype: category\n",
       "Categories (4, interval[int64]): [(0, 15] < (15, 30] < (30, 50] < (50, 80]]"
      ]
     },
     "execution_count": 11,
     "metadata": {},
     "output_type": "execute_result"
    }
   ],
   "source": [
    "##Creating age ranges using cut function\n",
    "titanic_corrected_df[\"Age Interval\"] = pd.cut(titanic_corrected_df[\"Age\"], [0, 15, 30, 50, 80])\n",
    "titanic_corrected_df[\"Age Interval\"].head()"
   ]
  },
  {
   "cell_type": "markdown",
   "metadata": {},
   "source": [
    "**Continuous Age data tranformed to categorical data with the below mentioned age ranges:**\n",
    "* 0-15  -> Kids\n",
    "* 15-30 -> Adults\n",
    "* 30-50 -> Middle-Aged\n",
    "* 50-80 -> Senior Citizens"
   ]
  },
  {
   "cell_type": "markdown",
   "metadata": {},
   "source": [
    "## 2. Data Analysis"
   ]
  },
  {
   "cell_type": "markdown",
   "metadata": {},
   "source": [
    "Various factors from the dataset may have influenced the survival chances of a passenger. The analysis for each is done seperately."
   ]
  },
  {
   "cell_type": "markdown",
   "metadata": {},
   "source": [
    "### 2.1 One Dimensional Analysis"
   ]
  },
  {
   "cell_type": "markdown",
   "metadata": {},
   "source": [
    "#### 2.1.1. Survival vs Sex\n",
    "During such disasters, safety of women is given a priority. "
   ]
  },
  {
   "cell_type": "code",
   "execution_count": 12,
   "metadata": {},
   "outputs": [
    {
     "name": "stdout",
     "output_type": "stream",
     "text": [
      "      Sex  Survived\n",
      "0  female  0.742038\n",
      "1    male  0.188908\n"
     ]
    }
   ],
   "source": [
    "data_by_sex = titanic_corrected_df[[\"Sex\", \"Survived\"]]\n",
    "print(data_by_sex.groupby(by=\"Sex\", as_index=False).mean())"
   ]
  },
  {
   "cell_type": "markdown",
   "metadata": {},
   "source": [
    "Clearly, **74%** of the female passengers survived, while the number is a meagre **18%** for male passengers."
   ]
  },
  {
   "cell_type": "markdown",
   "metadata": {},
   "source": [
    "#### 2.1.2. Survival vs Economic status\n",
    "Economic status in this case, can be governed by the class in which the passenger were travelling. It is may be the case that the higher economic status passengers were evacuated in higher numbers before others."
   ]
  },
  {
   "cell_type": "code",
   "execution_count": 15,
   "metadata": {},
   "outputs": [
    {
     "name": "stdout",
     "output_type": "stream",
     "text": [
      "   Pclass  Survived\n",
      "0       1  0.629630\n",
      "1       2  0.472826\n",
      "2       3  0.242363\n"
     ]
    },
    {
     "data": {
      "text/plain": [
       "<matplotlib.text.Text at 0x2521a83c6a0>"
      ]
     },
     "execution_count": 15,
     "metadata": {},
     "output_type": "execute_result"
    },
    {
     "data": {
      "image/png": "[encoded data removed]",
      "text/plain": [
       "<matplotlib.figure.Figure at 0x2521a656908>"
      ]
     },
     "metadata": {},
     "output_type": "display_data"
    }
   ],
   "source": [
    "data_by_pclass = titanic_corrected_df[[\"Pclass\", \"Survived\"]]\n",
    "print(data_by_pclass.groupby(by=\"Pclass\", as_index=False).mean())\n",
    "g = sns.factorplot(y=\"Survived\", x=\"Pclass\", data=data_by_pclass, size=4)\n",
    "g.ax.set_title(\"Plot for Survival Frequency Across Classes\")"
   ]
  },
  {
   "cell_type": "markdown",
   "metadata": {},
   "source": [
    "As the numbers suggest, around **63%** of the 1st class passengers survived, and the percentage keeps decreasing by class. It may also be the case that passenger count in each class might be different, hence it would valuable to look at the total passengers in each class."
   ]
  },
  {
   "cell_type": "code",
   "execution_count": 19,
   "metadata": {},
   "outputs": [
    {
     "data": {
      "text/plain": [
       "<matplotlib.axes._subplots.AxesSubplot at 0x2521b2f6908>"
      ]
     },
     "execution_count": 19,
     "metadata": {},
     "output_type": "execute_result"
    },
    {
     "data": {
      "image/png": "[encoded data removed]",
      "text/plain": [
       "<matplotlib.figure.Figure at 0x2521b0cddd8>"
      ]
     },
     "metadata": {},
     "output_type": "display_data"
    }
   ],
   "source": [
    "##Total passengers who survived in each class\n",
    "pclass_sum = data_by_pclass[data_by_pclass.Survived==1].groupby(by=\"Pclass\", as_index=False).sum()\n",
    "\n",
    "##Plotting in a single row\n",
    "fig, (axis1,axis2) = plt.subplots(1, 2, figsize=(15,5))\n",
    "\n",
    "#Count plot\n",
    "axis1.set_title(\"Count Plot for All Passengers\")\n",
    "sns.countplot(x=\"Pclass\", data=data_by_pclass, ax=axis1)\n",
    "\n",
    "#Survived Plot\n",
    "axis2.set_title(\"Pclass vs Survivors\")\n",
    "sns.barplot(x=\"Pclass\", y = \"Survived\", data=pclass_sum, ax=axis2)"
   ]
  },
  {
   "cell_type": "markdown",
   "metadata": {},
   "source": [
    "The highest number of passengers are travelling in the **3rd class(491)**. But the number of people that survived is still the maximum in **1st class, at 136.** So clearly, a passenger with higher economic status had a better chance of survival.  "
   ]
  },
  {
   "cell_type": "markdown",
   "metadata": {},
   "source": [
    "#### 2.1.3. Survival vs Age group \n",
    "Infants and children are the priority in the time of disaster, as they might be unable to help themselves. Even senior citizens may require some help."
   ]
  },
  {
   "cell_type": "code",
   "execution_count": 21,
   "metadata": {},
   "outputs": [
    {
     "data": {
      "text/html": [
       "<div>\n",
       "<style>\n",
       "    .dataframe thead tr:only-child th {\n",
       "        text-align: right;\n",
       "    }\n",
       "\n",
       "    .dataframe thead th {\n",
       "        text-align: left;\n",
       "    }\n",
       "\n",
       "    .dataframe tbody tr th {\n",
       "        vertical-align: top;\n",
       "    }\n",
       "</style>\n",
       "<table border=\"1\" class=\"dataframe\">\n",
       "  <thead>\n",
       "    <tr style=\"text-align: right;\">\n",
       "      <th></th>\n",
       "      <th>Age Interval</th>\n",
       "      <th>Survived</th>\n",
       "    </tr>\n",
       "  </thead>\n",
       "  <tbody>\n",
       "    <tr>\n",
       "      <th>0</th>\n",
       "      <td>(0, 15]</td>\n",
       "      <td>0.590361</td>\n",
       "    </tr>\n",
       "    <tr>\n",
       "      <th>1</th>\n",
       "      <td>(15, 30]</td>\n",
       "      <td>0.358896</td>\n",
       "    </tr>\n",
       "    <tr>\n",
       "      <th>2</th>\n",
       "      <td>(30, 50]</td>\n",
       "      <td>0.423237</td>\n",
       "    </tr>\n",
       "    <tr>\n",
       "      <th>3</th>\n",
       "      <td>(50, 80]</td>\n",
       "      <td>0.343750</td>\n",
       "    </tr>\n",
       "  </tbody>\n",
       "</table>\n",
       "</div>"
      ],
      "text/plain": [
       "  Age Interval  Survived\n",
       "0      (0, 15]  0.590361\n",
       "1     (15, 30]  0.358896\n",
       "2     (30, 50]  0.423237\n",
       "3     (50, 80]  0.343750"
      ]
     },
     "execution_count": 21,
     "metadata": {},
     "output_type": "execute_result"
    }
   ],
   "source": [
    "data_by_agegroup = titanic_corrected_df[[\"Age Interval\", \"Survived\"]].dropna().groupby(by=\"Age Interval\", as_index=False)\n",
    "data_by_agegroup.mean()"
   ]
  },
  {
   "cell_type": "code",
   "execution_count": 23,
   "metadata": {},
   "outputs": [
    {
     "data": {
      "text/plain": [
       "<matplotlib.text.Text at 0x2521b4472b0>"
      ]
     },
     "execution_count": 23,
     "metadata": {},
     "output_type": "execute_result"
    },
    {
     "data": {
      "image/png": "[encoded data removed]",
      "text/plain": [
       "<matplotlib.figure.Figure at 0x2521b3935c0>"
      ]
     },
     "metadata": {},
     "output_type": "display_data"
    }
   ],
   "source": [
    "##Plotting averages according to age intervals\n",
    "g = sns.factorplot(kind=\"bar\",x=\"Age Interval\", y=\"Survived\", data=data_by_agegroup.mean())\n",
    "g.ax.set_title(\"Survival Averages Across Age Intervals\")"
   ]
  },
  {
   "cell_type": "markdown",
   "metadata": {},
   "source": [
    "The age group from 0-15, i.e. **Kids**, has the highest survival rate at **59%**, validating the above assumption that children were evacuated on priority. For adults, the survival percentage is quite low, although being a little higher at 42% for middle-aged group, than the other two. A quite low number of people survived in the adult age group."
   ]
  },
  {
   "cell_type": "markdown",
   "metadata": {},
   "source": [
    "#### 2.1.4 Survival vs Embarking Point\n",
    "With three embarking points- Southampton, Cherbourg and Queenstown, it can be valuable to compare the survivors from these three locations."
   ]
  },
  {
   "cell_type": "code",
   "execution_count": 24,
   "metadata": {},
   "outputs": [
    {
     "name": "stdout",
     "output_type": "stream",
     "text": [
      "\n",
      "Count of total passengers from given station are: \n",
      "\n",
      "  Embarked  Survived\n",
      "0        C       168\n",
      "1        Q        77\n",
      "2        S       644\n",
      "\n",
      "Count of survivors from each station are:\n",
      "\n",
      "  Embarked  Survived\n",
      "0        C        93\n",
      "1        Q        30\n",
      "2        S       217\n",
      "\n",
      "Frequencies for survivors are: \n",
      "\n",
      "  Embarked  Survived\n",
      "0        C  0.553571\n",
      "1        Q  0.389610\n",
      "2        S  0.336957\n"
     ]
    }
   ],
   "source": [
    "data_by_stations = titanic_df[[\"Embarked\", \"Survived\"]].groupby(by=\"Embarked\", as_index=False )\n",
    "print(\"\\nCount of total passengers from given station are: \\n\")\n",
    "print(data_by_stations.count())\n",
    "print(\"\\nCount of survivors from each station are:\\n\")\n",
    "print(data_by_stations.sum())\n",
    "print(\"\\nFrequencies for survivors are: \\n\")\n",
    "print(data_by_stations.mean())"
   ]
  },
  {
   "cell_type": "code",
   "execution_count": 25,
   "metadata": {},
   "outputs": [
    {
     "data": {
      "text/plain": [
       "<matplotlib.axes._subplots.AxesSubplot at 0x2521b4f2f28>"
      ]
     },
     "execution_count": 25,
     "metadata": {},
     "output_type": "execute_result"
    },
    {
     "data": {
      "image/png": "[encoded data removed]",
      "text/plain": [
       "<matplotlib.figure.Figure at 0x2521b42e908>"
      ]
     },
     "metadata": {},
     "output_type": "display_data"
    }
   ],
   "source": [
    "##Visual Depiction of above provided data\n",
    "\n",
    "fig1, (ax1, ax2, ax3) = plt.subplots(1, 3, figsize=(15,5))\n",
    "\n",
    "#Count plot for each station\n",
    "sns.countplot(x=\"Embarked\", data=titanic_corrected_df, ax=ax1)\n",
    "ax1.set_title(\"Count for Each Station\")\n",
    "##Plot for count of people embarking from each station, according to survival\n",
    "sns.countplot(x=\"Survived\", hue=\"Embarked\", data=titanic_corrected_df, ax=ax2)\n",
    "ax2.set_title(\"Count for Each Station vs Survival\")\n",
    "##Frequencies of people who survived from each station\n",
    "ax3.set_title(\"Frequency plot for each station for Survivors\")\n",
    "sns.barplot(x='Embarked', y='Survived', data=data_by_stations.mean(),order=['S','C','Q'], ax=ax3)"
   ]
  },
  {
   "cell_type": "markdown",
   "metadata": {},
   "source": [
    "Though the number of passengers embarking from Southampton were the highest at 644, it has the **lowest survival percentage at only 33%**. The embarking station at **Cherbourg has the highest survivor percentage at around 55%**."
   ]
  },
  {
   "cell_type": "markdown",
   "metadata": {},
   "source": [
    "#### 2.1.5 Pclass vs  Fare\n",
    "Comparison to see the correlation between Pclass and fare. Higher class generally implies higher ticket fares."
   ]
  },
  {
   "cell_type": "code",
   "execution_count": 30,
   "metadata": {},
   "outputs": [
    {
     "data": {
      "text/html": [
       "<div>\n",
       "<style>\n",
       "    .dataframe thead tr:only-child th {\n",
       "        text-align: right;\n",
       "    }\n",
       "\n",
       "    .dataframe thead th {\n",
       "        text-align: left;\n",
       "    }\n",
       "\n",
       "    .dataframe tbody tr th {\n",
       "        vertical-align: top;\n",
       "    }\n",
       "</style>\n",
       "<table border=\"1\" class=\"dataframe\">\n",
       "  <thead>\n",
       "    <tr>\n",
       "      <th></th>\n",
       "      <th colspan=\"8\" halign=\"left\">Fare</th>\n",
       "    </tr>\n",
       "    <tr>\n",
       "      <th></th>\n",
       "      <th>count</th>\n",
       "      <th>mean</th>\n",
       "      <th>std</th>\n",
       "      <th>min</th>\n",
       "      <th>25%</th>\n",
       "      <th>50%</th>\n",
       "      <th>75%</th>\n",
       "      <th>max</th>\n",
       "    </tr>\n",
       "    <tr>\n",
       "      <th>Pclass</th>\n",
       "      <th></th>\n",
       "      <th></th>\n",
       "      <th></th>\n",
       "      <th></th>\n",
       "      <th></th>\n",
       "      <th></th>\n",
       "      <th></th>\n",
       "      <th></th>\n",
       "    </tr>\n",
       "  </thead>\n",
       "  <tbody>\n",
       "    <tr>\n",
       "      <th>1</th>\n",
       "      <td>216.0</td>\n",
       "      <td>84.154687</td>\n",
       "      <td>78.380373</td>\n",
       "      <td>0.0</td>\n",
       "      <td>30.92395</td>\n",
       "      <td>60.2875</td>\n",
       "      <td>93.5</td>\n",
       "      <td>512.3292</td>\n",
       "    </tr>\n",
       "    <tr>\n",
       "      <th>2</th>\n",
       "      <td>184.0</td>\n",
       "      <td>20.662183</td>\n",
       "      <td>13.417399</td>\n",
       "      <td>0.0</td>\n",
       "      <td>13.00000</td>\n",
       "      <td>14.2500</td>\n",
       "      <td>26.0</td>\n",
       "      <td>73.5000</td>\n",
       "    </tr>\n",
       "    <tr>\n",
       "      <th>3</th>\n",
       "      <td>491.0</td>\n",
       "      <td>13.675550</td>\n",
       "      <td>11.778142</td>\n",
       "      <td>0.0</td>\n",
       "      <td>7.75000</td>\n",
       "      <td>8.0500</td>\n",
       "      <td>15.5</td>\n",
       "      <td>69.5500</td>\n",
       "    </tr>\n",
       "  </tbody>\n",
       "</table>\n",
       "</div>"
      ],
      "text/plain": [
       "         Fare                                                              \n",
       "        count       mean        std  min       25%      50%   75%       max\n",
       "Pclass                                                                     \n",
       "1       216.0  84.154687  78.380373  0.0  30.92395  60.2875  93.5  512.3292\n",
       "2       184.0  20.662183  13.417399  0.0  13.00000  14.2500  26.0   73.5000\n",
       "3       491.0  13.675550  11.778142  0.0   7.75000   8.0500  15.5   69.5500"
      ]
     },
     "execution_count": 30,
     "metadata": {},
     "output_type": "execute_result"
    }
   ],
   "source": [
    "##Data by fare\n",
    "data_by_fare = titanic_corrected_df[[\"Fare\",\"Pclass\"]]\n",
    "data_by_fare.groupby(['Pclass']).describe()"
   ]
  },
  {
   "cell_type": "code",
   "execution_count": 31,
   "metadata": {},
   "outputs": [
    {
     "data": {
      "text/plain": [
       "<matplotlib.axes._subplots.AxesSubplot at 0x2521a7a31d0>"
      ]
     },
     "execution_count": 31,
     "metadata": {},
     "output_type": "execute_result"
    },
    {
     "data": {
      "image/png": "[encoded data removed]",
      "text/plain": [
       "<matplotlib.figure.Figure at 0x2521a720f28>"
      ]
     },
     "metadata": {},
     "output_type": "display_data"
    }
   ],
   "source": [
    "##Visualizations\n",
    "fig, ax = plt.subplots(figsize=(10,5))\n",
    "ax.set_title(\"Fare Distribution across Pclass\")\n",
    "sns.boxplot(y=\"Fare\",x=\"Pclass\",data=data_by_fare, ax=ax)"
   ]
  },
  {
   "cell_type": "markdown",
   "metadata": {},
   "source": [
    "It is clear that higher the class, higher is the fare. All three classes have 0 as the minimum fare, so it implies passengers having free travel vouchers, with Titanic being on its maiden voyage. Class 3 has the lowest fares in the range of 7 to 15, Class 2 having a range of 13 to 26, and 1st class being in the range of 30 to 94. The maximum fare is around 512, which lies in the 1st class, obviously.<br>\n",
    "*All ranges are taken as Inter Quartile Ranges, not taking into account the outliers.*"
   ]
  },
  {
   "cell_type": "markdown",
   "metadata": {},
   "source": [
    "### 2.2 Inter-category Analysis (multi-dimensional) "
   ]
  },
  {
   "cell_type": "markdown",
   "metadata": {},
   "source": [
    "#### 2.2.1 Survival vs Age & Sex  "
   ]
  },
  {
   "cell_type": "markdown",
   "metadata": {},
   "source": [
    "Since 74% survival rate was seen for females, *which is quite high*, it is worthwhile to find out if age affected the proportions of their survival."
   ]
  },
  {
   "cell_type": "code",
   "execution_count": 32,
   "metadata": {
    "collapsed": true
   },
   "outputs": [],
   "source": [
    "##Some functions for specific factor analysis\n",
    "##Age Wise\n",
    "def age_wise_data(dataframe):\n",
    "    age_data = dataframe[[\"Age Interval\", \"Survived\"]].groupby(by=\"Age Interval\", as_index=False)\n",
    "    return age_data\n",
    "##Embarking Station Wise\n",
    "def station_wise_data(dataframe):\n",
    "    station_data = dataframe[[\"Embarked\", \"Survived\"]].groupby(by=\"Embarked\" , as_index=False)\n",
    "    return station_data"
   ]
  },
  {
   "cell_type": "code",
   "execution_count": 33,
   "metadata": {},
   "outputs": [
    {
     "name": "stdout",
     "output_type": "stream",
     "text": [
      "Female Survival Data:\n",
      "\n",
      "  Age Interval  Survived\n",
      "0      (0, 15]  0.651163\n",
      "1     (15, 30]  0.747826\n",
      "2     (30, 50]  0.779070\n",
      "3     (50, 80]  0.941176\n",
      "\n",
      "Male Survival Data:\n",
      "\n",
      "  Age Interval  Survived\n",
      "0      (0, 15]  0.525000\n",
      "1     (15, 30]  0.146919\n",
      "2     (30, 50]  0.225806\n",
      "3     (50, 80]  0.127660\n"
     ]
    },
    {
     "data": {
      "text/plain": [
       "<matplotlib.axes._subplots.AxesSubplot at 0x2521be3f400>"
      ]
     },
     "execution_count": 33,
     "metadata": {},
     "output_type": "execute_result"
    },
    {
     "data": {
      "image/png": "[encoded data removed]",
      "text/plain": [
       "<matplotlib.figure.Figure at 0x2521b3e0550>"
      ]
     },
     "metadata": {},
     "output_type": "display_data"
    }
   ],
   "source": [
    "##Grouping by female passengers\n",
    "female_passengers = titanic_corrected_df[titanic_corrected_df.Sex==\"female\"]\n",
    "female_age_data = age_wise_data(female_passengers).mean()\n",
    "print(\"Female Survival Data:\\n\")\n",
    "print(female_age_data)\n",
    "\n",
    "##Grouping for male passengers\n",
    "male_passengers = titanic_corrected_df[titanic_corrected_df.Sex==\"male\"]\n",
    "male_age_data = age_wise_data(male_passengers).mean()\n",
    "print(\"\\nMale Survival Data:\\n\")\n",
    "print(male_age_data)\n",
    "\n",
    "##All passengers with no grouping\n",
    "passengers = titanic_corrected_df[[\"Sex\",\"Age Interval\",\"Survived\"]]\n",
    "\n",
    "##Visual Representation\n",
    "fig2, (axis1,axis2,axis3) = plt.subplots(1, 3, figsize=(15,5))\n",
    "axis1.set_title(\"Age Distribution vs Sex\")\n",
    "sns.countplot(x=\"Age Interval\", hue=\"Sex\", data=titanic_corrected_df, ax=axis1)\n",
    "axis2.set_title(\"Age Distribution vs Sex for Survivors\")\n",
    "sns.countplot(x=\"Age Interval\", hue=\"Sex\", data=titanic_corrected_df[titanic_corrected_df.Survived==1],\\\n",
    "              hue_order=[\"male\", \"female\"],ax=axis2)\n",
    "axis3.set_title(\"Frequency of Survival in each group, categorised by Sex\")\n",
    "sns.barplot(x=\"Age Interval\",y=\"Survived\" ,hue=\"Sex\", data=passengers)"
   ]
  },
  {
   "cell_type": "markdown",
   "metadata": {},
   "source": [
    "The main point to be noted here is that _male survival percentage is much much lower in each age group, when compared to females_. So this can be considered as a major factor for survival.\n",
    "\n",
    "However, contrary to our previous assumption that children tend to have the higher survival rate, irrespective of sex, the **Kids age group for females has the lowest survival numbers** amongst all females. The **senior citizen age group**, is at the top with around **94% survivors** instead. In comparison, the assumption holds true in case of males. "
   ]
  },
  {
   "cell_type": "markdown",
   "metadata": {},
   "source": [
    "#### 2.2.2 Survival vs Age and Economic Status\n",
    "Economic status, as stated previously, can be determined through the class in which the passengers were travelling, i.e. *Pclass*. Distribution of passengers in each Pclass according to age, will give us an idea of the population age density, and likewise for the survivors."
   ]
  },
  {
   "cell_type": "code",
   "execution_count": 34,
   "metadata": {},
   "outputs": [
    {
     "data": {
      "text/plain": [
       "<matplotlib.text.Text at 0x2521c00f240>"
      ]
     },
     "execution_count": 34,
     "metadata": {},
     "output_type": "execute_result"
    },
    {
     "data": {
      "image/png": "[encoded data removed]",
      "text/plain": [
       "<matplotlib.figure.Figure at 0x2521c137eb8>"
      ]
     },
     "metadata": {},
     "output_type": "display_data"
    }
   ],
   "source": [
    "##Grouping Data by Pclass\n",
    "age_class_data = titanic_corrected_df[[\"Survived\",\"Age\",\"Pclass\"]]\n",
    "age_class_data.groupby(by=\"Pclass\", as_index=False)\n",
    "age_class_data = age_class_data.dropna()\n",
    "\n",
    "fig, (ax1,ax2) = plt.subplots(1,2,figsize=(15,5))\n",
    "\n",
    "##Distribution plots for Age vs Economic Status\n",
    "age_class_data.Age[age_class_data.Pclass==1].plot(kind=\"kde\", ax=ax1)\n",
    "age_class_data.Age[age_class_data.Pclass==2].plot(kind=\"kde\", ax=ax1)\n",
    "age_class_data.Age[age_class_data.Pclass==3].plot(kind=\"kde\", ax=ax1)\n",
    "ax1.legend(('1st Class', '2nd Class','3rd Class'), loc='best')\n",
    "ax1.set_title(\"Age vs Class Distribution for whole Population\")\n",
    "ax1.set_xlabel(\"Age\")\n",
    "\n",
    "##Distribution plots for Age vs Economic Status for the passengers who survived\n",
    "age_class_data1 = age_class_data[age_class_data.Survived==1]\n",
    "age_class_data1.Age[age_class_data1.Pclass==1].plot(kind=\"kde\", ax=ax2)\n",
    "age_class_data1.Age[age_class_data1.Pclass==2].plot(kind=\"kde\", ax=ax2)\n",
    "age_class_data1.Age[age_class_data1.Pclass==3].plot(kind=\"kde\", ax=ax2)\n",
    "ax2.legend(('1st Class', '2nd Class','3rd Class'), loc='best')\n",
    "ax2.set_title(\"Age vs Class Distribution for Survivors\")\n",
    "ax2.set_xlabel(\"Age\")"
   ]
  },
  {
   "cell_type": "markdown",
   "metadata": {},
   "source": [
    "Most of the passengers in each class are in the 20-40 year age margin. Same goes for the passengers who survived. \n",
    "<br>Amongst the three classes, the peak for the distribution occurs at a later point for 1st and 2nd class, i.e. more young adults(18-25 years) are present in the 3rd class.<br>A *second local maxima is also seen in 2nd and 3rd class* in the 0-10 years age range, signifying more children, and can also be called as a *bimodal distribution*. This fact also holds true for Age distribution of survivors.  "
   ]
  },
  {
   "cell_type": "markdown",
   "metadata": {},
   "source": [
    "#### 2.2.3 Survival vs Family Members\n",
    "Using the Sibsp and Parch, we can create a new category to check if the passenger is with family or is travelling alone. These can be merged together and analysed how being with a family affects the survival rate. "
   ]
  },
  {
   "cell_type": "code",
   "execution_count": 35,
   "metadata": {},
   "outputs": [
    {
     "name": "stdout",
     "output_type": "stream",
     "text": [
      "   Has Family  Survived\n",
      "0       False  0.303538\n",
      "1        True  0.505650\n"
     ]
    },
    {
     "data": {
      "text/plain": [
       "<matplotlib.axes._subplots.AxesSubplot at 0x2521b916cc0>"
      ]
     },
     "execution_count": 35,
     "metadata": {},
     "output_type": "execute_result"
    },
    {
     "data": {
      "image/png": "[encoded data removed]",
      "text/plain": [
       "<matplotlib.figure.Figure at 0x2521bd557f0>"
      ]
     },
     "metadata": {},
     "output_type": "display_data"
    }
   ],
   "source": [
    "##Creating new dataframe to avoid changing values in original\n",
    "titanic_corrected_new = titanic_corrected_df.copy()\n",
    "titanic_corrected_new[\"Has Family\"] = titanic_corrected_new[\"SibSp\"] + titanic_corrected_new[\"Parch\"] > 0\n",
    "titanic_corrected_new.drop([\"SibSp\",\"Parch\"], axis=\"columns\")\n",
    "\n",
    "##Grouping by Family\n",
    "data_by_family = titanic_corrected_new[[\"Has Family\",\"Survived\"]].groupby(by=\"Has Family\", as_index=False)\n",
    "print(data_by_family.mean())\n",
    "\n",
    "##Visualisation\n",
    "fig4, (axis1,axis2) = plt.subplots(1,2, figsize=(10,5))\n",
    "\n",
    "axis1.set_title(\"Total Count according to Family\")\n",
    "sns.countplot(x=\"Has Family\", data=titanic_corrected_new, order=[True, False], ax=axis1)\n",
    "axis2.set_title(\"Frequency of Survival vs Family\")\n",
    "sns.barplot(x=\"Has Family\", y=\"Survived\", data=data_by_family.mean(), order=[True, False], ax=axis2)"
   ]
  },
  {
   "cell_type": "markdown",
   "metadata": {},
   "source": [
    "It is quite evident that passengers having family members had a higher chance of survival. While the number of passengers travelling alone is higher than the ones with family, the rate of survival could be higher for families as they might have stuck together while evacuating, hence increasing the chances of whole family surviving together. This definitely does not imply causation though, because some members of a family might not have survived, while others may have."
   ]
  },
  {
   "cell_type": "markdown",
   "metadata": {},
   "source": [
    "#### 2.2.4 Survivors vs Economic Status and Embarking Stations\n",
    "Fare distribution and Pclass's across embarking stations may help us analyze the crowd which boarded from each station."
   ]
  },
  {
   "cell_type": "code",
   "execution_count": 36,
   "metadata": {},
   "outputs": [
    {
     "data": {
      "text/html": [
       "<div>\n",
       "<style>\n",
       "    .dataframe thead tr:only-child th {\n",
       "        text-align: right;\n",
       "    }\n",
       "\n",
       "    .dataframe thead th {\n",
       "        text-align: left;\n",
       "    }\n",
       "\n",
       "    .dataframe tbody tr th {\n",
       "        vertical-align: top;\n",
       "    }\n",
       "</style>\n",
       "<table border=\"1\" class=\"dataframe\">\n",
       "  <thead>\n",
       "    <tr>\n",
       "      <th></th>\n",
       "      <th colspan=\"8\" halign=\"left\">Fare</th>\n",
       "    </tr>\n",
       "    <tr>\n",
       "      <th></th>\n",
       "      <th>count</th>\n",
       "      <th>mean</th>\n",
       "      <th>std</th>\n",
       "      <th>min</th>\n",
       "      <th>25%</th>\n",
       "      <th>50%</th>\n",
       "      <th>75%</th>\n",
       "      <th>max</th>\n",
       "    </tr>\n",
       "    <tr>\n",
       "      <th>Embarked</th>\n",
       "      <th></th>\n",
       "      <th></th>\n",
       "      <th></th>\n",
       "      <th></th>\n",
       "      <th></th>\n",
       "      <th></th>\n",
       "      <th></th>\n",
       "      <th></th>\n",
       "    </tr>\n",
       "  </thead>\n",
       "  <tbody>\n",
       "    <tr>\n",
       "      <th>C</th>\n",
       "      <td>168.0</td>\n",
       "      <td>59.954144</td>\n",
       "      <td>83.912994</td>\n",
       "      <td>4.0125</td>\n",
       "      <td>13.69795</td>\n",
       "      <td>29.70</td>\n",
       "      <td>78.500025</td>\n",
       "      <td>512.3292</td>\n",
       "    </tr>\n",
       "    <tr>\n",
       "      <th>Q</th>\n",
       "      <td>77.0</td>\n",
       "      <td>13.276030</td>\n",
       "      <td>14.188047</td>\n",
       "      <td>6.7500</td>\n",
       "      <td>7.75000</td>\n",
       "      <td>7.75</td>\n",
       "      <td>15.500000</td>\n",
       "      <td>90.0000</td>\n",
       "    </tr>\n",
       "    <tr>\n",
       "      <th>S</th>\n",
       "      <td>644.0</td>\n",
       "      <td>27.079812</td>\n",
       "      <td>35.887993</td>\n",
       "      <td>0.0000</td>\n",
       "      <td>8.05000</td>\n",
       "      <td>13.00</td>\n",
       "      <td>27.900000</td>\n",
       "      <td>263.0000</td>\n",
       "    </tr>\n",
       "  </tbody>\n",
       "</table>\n",
       "</div>"
      ],
      "text/plain": [
       "           Fare                                                            \\\n",
       "          count       mean        std     min       25%    50%        75%   \n",
       "Embarked                                                                    \n",
       "C         168.0  59.954144  83.912994  4.0125  13.69795  29.70  78.500025   \n",
       "Q          77.0  13.276030  14.188047  6.7500   7.75000   7.75  15.500000   \n",
       "S         644.0  27.079812  35.887993  0.0000   8.05000  13.00  27.900000   \n",
       "\n",
       "                    \n",
       "               max  \n",
       "Embarked            \n",
       "C         512.3292  \n",
       "Q          90.0000  \n",
       "S         263.0000  "
      ]
     },
     "execution_count": 36,
     "metadata": {},
     "output_type": "execute_result"
    }
   ],
   "source": [
    "##Comparison through Fare\n",
    "data_by_fare_station = titanic_corrected_df[[\"Fare\",\"Embarked\"]].groupby(['Embarked'])\n",
    "data_by_fare_station.describe()"
   ]
  },
  {
   "cell_type": "code",
   "execution_count": 37,
   "metadata": {},
   "outputs": [
    {
     "data": {
      "text/html": [
       "<div>\n",
       "<style>\n",
       "    .dataframe thead tr:only-child th {\n",
       "        text-align: right;\n",
       "    }\n",
       "\n",
       "    .dataframe thead th {\n",
       "        text-align: left;\n",
       "    }\n",
       "\n",
       "    .dataframe tbody tr th {\n",
       "        vertical-align: top;\n",
       "    }\n",
       "</style>\n",
       "<table border=\"1\" class=\"dataframe\">\n",
       "  <thead>\n",
       "    <tr>\n",
       "      <th></th>\n",
       "      <th colspan=\"8\" halign=\"left\">Fare</th>\n",
       "    </tr>\n",
       "    <tr>\n",
       "      <th></th>\n",
       "      <th>count</th>\n",
       "      <th>mean</th>\n",
       "      <th>std</th>\n",
       "      <th>min</th>\n",
       "      <th>25%</th>\n",
       "      <th>50%</th>\n",
       "      <th>75%</th>\n",
       "      <th>max</th>\n",
       "    </tr>\n",
       "    <tr>\n",
       "      <th>Embarked</th>\n",
       "      <th></th>\n",
       "      <th></th>\n",
       "      <th></th>\n",
       "      <th></th>\n",
       "      <th></th>\n",
       "      <th></th>\n",
       "      <th></th>\n",
       "      <th></th>\n",
       "    </tr>\n",
       "  </thead>\n",
       "  <tbody>\n",
       "    <tr>\n",
       "      <th>C</th>\n",
       "      <td>93.0</td>\n",
       "      <td>79.720926</td>\n",
       "      <td>99.582717</td>\n",
       "      <td>7.2250</td>\n",
       "      <td>19.2583</td>\n",
       "      <td>56.92920</td>\n",
       "      <td>89.1042</td>\n",
       "      <td>512.3292</td>\n",
       "    </tr>\n",
       "    <tr>\n",
       "      <th>Q</th>\n",
       "      <td>30.0</td>\n",
       "      <td>13.182227</td>\n",
       "      <td>15.371167</td>\n",
       "      <td>7.7333</td>\n",
       "      <td>7.7500</td>\n",
       "      <td>7.80835</td>\n",
       "      <td>12.3500</td>\n",
       "      <td>90.0000</td>\n",
       "    </tr>\n",
       "    <tr>\n",
       "      <th>S</th>\n",
       "      <td>217.0</td>\n",
       "      <td>39.547081</td>\n",
       "      <td>45.427680</td>\n",
       "      <td>0.0000</td>\n",
       "      <td>12.6500</td>\n",
       "      <td>26.00000</td>\n",
       "      <td>52.0000</td>\n",
       "      <td>263.0000</td>\n",
       "    </tr>\n",
       "  </tbody>\n",
       "</table>\n",
       "</div>"
      ],
      "text/plain": [
       "           Fare                                                            \\\n",
       "          count       mean        std     min      25%       50%      75%   \n",
       "Embarked                                                                    \n",
       "C          93.0  79.720926  99.582717  7.2250  19.2583  56.92920  89.1042   \n",
       "Q          30.0  13.182227  15.371167  7.7333   7.7500   7.80835  12.3500   \n",
       "S         217.0  39.547081  45.427680  0.0000  12.6500  26.00000  52.0000   \n",
       "\n",
       "                    \n",
       "               max  \n",
       "Embarked            \n",
       "C         512.3292  \n",
       "Q          90.0000  \n",
       "S         263.0000  "
      ]
     },
     "execution_count": 37,
     "metadata": {},
     "output_type": "execute_result"
    }
   ],
   "source": [
    "##Similar comparison for survivors\n",
    "survivors_by_fare_station = pd.DataFrame(data=titanic_corrected_df[titanic_corrected_df.Survived==1],columns=[\"Fare\", \"Embarked\"])\n",
    "survivors_by_fare_station.groupby([\"Embarked\"]).describe()"
   ]
  },
  {
   "cell_type": "code",
   "execution_count": 38,
   "metadata": {},
   "outputs": [
    {
     "data": {
      "text/plain": [
       "<matplotlib.text.Text at 0x2521c2e22e8>"
      ]
     },
     "execution_count": 38,
     "metadata": {},
     "output_type": "execute_result"
    },
    {
     "data": {
      "image/png": "[encoded data removed]",
      "text/plain": [
       "<matplotlib.figure.Figure at 0x2521bcba4a8>"
      ]
     },
     "metadata": {},
     "output_type": "display_data"
    }
   ],
   "source": [
    "##Visualizations for survivors and non-survivors, exploring above stated relationship\n",
    "fig, (ax1,ax2) = plt.subplots(1,2,figsize=(16,5))\n",
    "sns.boxplot(x=\"Embarked\", y=\"Fare\", data=titanic_corrected_df, order=[\"S\",\"C\",\"Q\"],ax=ax1)\n",
    "sns.boxplot(x=\"Embarked\", y=\"Fare\", data=survivors_by_fare_station, order=[\"S\",\"C\",\"Q\"], ax=ax2)\n",
    "ax2.set_title(\"Fare vs Embarking Station for Survivors\")\n",
    "ax1.set_title(\"Fare vs Embarking Station\")"
   ]
  },
  {
   "cell_type": "markdown",
   "metadata": {},
   "source": [
    "While the number of passenger embarking from Queenstown were quite less in comparison to the other two, the overall fare distribution was also very small here. The maximum value is around 90 for Queenstown, while the overall maximum fare was from Cherbourg, at around 512. The highest IQR is also from Cherbourg, while the number of outliers are mostly from Southampton. The minimum fare, is 0 across all three stations."
   ]
  },
  {
   "cell_type": "code",
   "execution_count": 40,
   "metadata": {},
   "outputs": [
    {
     "data": {
      "text/plain": [
       "<matplotlib.text.Text at 0x2521d8fe978>"
      ]
     },
     "execution_count": 40,
     "metadata": {},
     "output_type": "execute_result"
    },
    {
     "data": {
      "image/png": "[encoded data removed]",
      "text/plain": [
       "<matplotlib.figure.Figure at 0x2521d711278>"
      ]
     },
     "metadata": {},
     "output_type": "display_data"
    }
   ],
   "source": [
    "##Comparison with Pclass\n",
    "data_by_class_station = titanic_corrected_df[[\"Pclass\",\"Embarked\",\"Survived\"]]\n",
    "fig, (a1,a2) = plt.subplots(1,2,figsize=(12,5))\n",
    "sns.countplot(x=\"Embarked\", hue=\"Pclass\", data=data_by_class_station,ax=a1, order=[\"S\",\"C\",\"Q\"])\n",
    "a1.set_title(\"Count of Pclass vs Embarked for all Passenger\")\n",
    "sns.countplot(x=\"Embarked\", hue=\"Pclass\", data=data_by_class_station[data_by_class_station.Survived==1],ax=a2,\\\n",
    "              order=[\"S\",\"C\",\"Q\"])\n",
    "a2.set_title(\"Count of Pclass vs Embarked for Survivors\")"
   ]
  },
  {
   "cell_type": "markdown",
   "metadata": {},
   "source": [
    "## 3. Limitations"
   ]
  },
  {
   "cell_type": "markdown",
   "metadata": {},
   "source": [
    "* Since we know that the data present in the dataset is not quite complete(around 2000 people were aboard the Titanic when the disaster struck), we cannot be fully sure if the above analysis is accurate. Data for more than 50% of the total riders is not available, and that greatly affects any correlations/trends that one may have had predicted through this analysis. For example, one of the analysis where children in female category have lower survival frequency than all other age groups seems to be incorrect. Insufficient data may be the reason for this. A generalisation for all the passengers cannot be made through this analysis.\n",
    "\n",
    "* Many a values are missing in the dataset, such as age, cabins etc.. Age is actually a major parameter that has been analysed throughout this report, and it is done so through only 714 values available out of 891 passengers. The unavailable values can either be assumed, or predicted, but either way, the outcome may not necessarily be correct. Similarly, the parameter cabin, cannot be analysed since a lot of values are missing from the dataset. So it is actually wasted.\n",
    "\n",
    "* Duplicate data is present in the ticket column. It only has around 681 unique values. This may not be a limitation, but since no documentation is provided regarding the authenticity or purpose of same ticket number, this data cannot be faithfully analysed. Assumptions in this case may only lead to wasted efforts without any fruitful inferences.\n",
    "\n",
    "* More information regarding the passengers could've been provided, such as Profession, address etc.. Although not directly answering the main question, these parameters may act as secondary information which may have influenced a person's survival at that point of time. A good example of that would be profession, i.e. someone like an athlete, soldier etc. may have a higher chance of survival due to physical fitness and ability to strive in dangerous situations."
   ]
  },
  {
   "cell_type": "markdown",
   "metadata": {},
   "source": [
    "## 4. Conclusions"
   ]
  },
  {
   "cell_type": "markdown",
   "metadata": {},
   "source": [
    "The analysis can be summarised in a few points as follows:\n",
    "* Only around 38% (342) people survived out of 891 passengers, whose data is available to us.\n",
    "* **The chances of survival of females are seen to be higher**, across all age groups when compared to male passengers. *This can be termed as an outcome of survival of women being given priority while in such situation.*\n",
    "* In terms of age, **children have the highest survival percentage overall**, but this is not so in the case of females. Amongst females, passengers in the age group of 50-80 years were most likely to survive the disaster. *Children, and elders are the ones who might need help evacuating during such crisis.* But, the fact that survival rates were lowest in case of women doesn't sit right with the trend, possibly because of *limited data being available for all passengers.*\n",
    "* Passengers travelling in the **1st class, are more likely to be evacuated first**. The highest casualties are from the third class. This is correlated with their ticket fares(as it is analogous to Pclass) as well.\n",
    "* **Family members are seen to have a higher survival rate in comparison to passengers travelling alone**. But this in any way doesn't imply a causation. There might've been many uncontrollable and unexplorable factors, leading to such a statistic.\n",
    "* **Southampton station, though having the largest number of passengers boarding from it, has lowest survival percentage**. *This as well doesn't imply a causation.* **Percentage survival is highest for Cherbourg.**\n",
    "* **Queenstown seems to be the poorest town** of the three, as a relatively low number of people have embarked from there, that too mostly in 3rd class, with very low fares.\n"
   ]
  },
  {
   "cell_type": "markdown",
   "metadata": {},
   "source": [
    "## 5. Resources Used"
   ]
  },
  {
   "cell_type": "markdown",
   "metadata": {},
   "source": [
    "[**Seaborn Documentation**](https://seaborn.pydata.org/index.html)<br>\n",
    "[**Kaggle Titanic Dataset Webpage**](https://www.kaggle.com/c/titanic)<br>\n",
    "[**Stackoverflow Website**](https://stackoverflow.com/)<br>\n",
    "[**Data Visualization Catalogue**](http://www.datavizcatalogue.com/index.html)<br>\n",
    "[**Pandas v0.23 Documentation**](https://pandas.pydata.org/pandas-docs/stable/index.html)<br>\n",
    "[**Choosing the best Graph Type**](http://sphweb.bumc.bu.edu/otlt/mph-modules/bs/datapresentation/DataPresentation7.html)<br>\n",
    "[**Tutorial for Seaborn**](http://mlwhiz.com/blog/2015/09/13/seaborn_visualizations/)<br>\n",
    "[**Matplotlib Documentation**](https://matplotlib.org/)\n"
   ]
  }
 ],
 "metadata": {
  "kernelspec": {
   "display_name": "Python 3",
   "language": "python",
   "name": "python3"
  },
  "language_info": {
   "codemirror_mode": {
    "name": "ipython",
    "version": 3
   },
   "file_extension": ".py",
   "mimetype": "text/x-python",
   "name": "python",
   "nbconvert_exporter": "python",
   "pygments_lexer": "ipython3",
   "version": "3.6.2"
  }
 },
 "nbformat": 4,
 "nbformat_minor": 2
}
